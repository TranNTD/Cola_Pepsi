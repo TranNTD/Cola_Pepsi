{
 "cells": [
  {
   "cell_type": "code",
   "execution_count": 16,
   "metadata": {},
   "outputs": [],
   "source": [
    "import numpy as np\n",
    "import pandas as pd\n",
    "import edhec_risk_kit as erk"
   ]
  },
  {
   "cell_type": "code",
   "execution_count": 3,
   "metadata": {},
   "outputs": [],
   "source": [
    "CocaCola_data = pd.read_csv('KO.csv')\n",
    "Pepsi_data = pd.read_csv('PEP.csv')"
   ]
  },
  {
   "cell_type": "code",
   "execution_count": 4,
   "metadata": {},
   "outputs": [
    {
     "data": {
      "text/html": [
       "<div>\n",
       "<style scoped>\n",
       "    .dataframe tbody tr th:only-of-type {\n",
       "        vertical-align: middle;\n",
       "    }\n",
       "\n",
       "    .dataframe tbody tr th {\n",
       "        vertical-align: top;\n",
       "    }\n",
       "\n",
       "    .dataframe thead th {\n",
       "        text-align: right;\n",
       "    }\n",
       "</style>\n",
       "<table border=\"1\" class=\"dataframe\">\n",
       "  <thead>\n",
       "    <tr style=\"text-align: right;\">\n",
       "      <th></th>\n",
       "      <th>Date</th>\n",
       "      <th>Open</th>\n",
       "      <th>High</th>\n",
       "      <th>Low</th>\n",
       "      <th>Close</th>\n",
       "      <th>Adj Close</th>\n",
       "      <th>Volume</th>\n",
       "    </tr>\n",
       "  </thead>\n",
       "  <tbody>\n",
       "    <tr>\n",
       "      <th>0</th>\n",
       "      <td>2022-01-12</td>\n",
       "      <td>60.529999</td>\n",
       "      <td>60.689999</td>\n",
       "      <td>60.189999</td>\n",
       "      <td>60.540001</td>\n",
       "      <td>58.800369</td>\n",
       "      <td>15753800</td>\n",
       "    </tr>\n",
       "    <tr>\n",
       "      <th>1</th>\n",
       "      <td>2022-01-13</td>\n",
       "      <td>60.540001</td>\n",
       "      <td>61.040001</td>\n",
       "      <td>60.389999</td>\n",
       "      <td>60.900002</td>\n",
       "      <td>59.150032</td>\n",
       "      <td>14318000</td>\n",
       "    </tr>\n",
       "    <tr>\n",
       "      <th>2</th>\n",
       "      <td>2022-01-14</td>\n",
       "      <td>60.939999</td>\n",
       "      <td>61.450001</td>\n",
       "      <td>60.360001</td>\n",
       "      <td>61.389999</td>\n",
       "      <td>59.625946</td>\n",
       "      <td>19729600</td>\n",
       "    </tr>\n",
       "    <tr>\n",
       "      <th>3</th>\n",
       "      <td>2022-01-18</td>\n",
       "      <td>61.060001</td>\n",
       "      <td>61.189999</td>\n",
       "      <td>60.450001</td>\n",
       "      <td>60.900002</td>\n",
       "      <td>59.150032</td>\n",
       "      <td>21976700</td>\n",
       "    </tr>\n",
       "    <tr>\n",
       "      <th>4</th>\n",
       "      <td>2022-01-19</td>\n",
       "      <td>60.660000</td>\n",
       "      <td>61.180000</td>\n",
       "      <td>60.560001</td>\n",
       "      <td>61.000000</td>\n",
       "      <td>59.247154</td>\n",
       "      <td>18654700</td>\n",
       "    </tr>\n",
       "  </tbody>\n",
       "</table>\n",
       "</div>"
      ],
      "text/plain": [
       "         Date       Open       High        Low      Close  Adj Close    Volume\n",
       "0  2022-01-12  60.529999  60.689999  60.189999  60.540001  58.800369  15753800\n",
       "1  2022-01-13  60.540001  61.040001  60.389999  60.900002  59.150032  14318000\n",
       "2  2022-01-14  60.939999  61.450001  60.360001  61.389999  59.625946  19729600\n",
       "3  2022-01-18  61.060001  61.189999  60.450001  60.900002  59.150032  21976700\n",
       "4  2022-01-19  60.660000  61.180000  60.560001  61.000000  59.247154  18654700"
      ]
     },
     "execution_count": 4,
     "metadata": {},
     "output_type": "execute_result"
    }
   ],
   "source": [
    "CocaCola_data.head()"
   ]
  },
  {
   "cell_type": "code",
   "execution_count": 5,
   "metadata": {},
   "outputs": [
    {
     "data": {
      "text/html": [
       "<div>\n",
       "<style scoped>\n",
       "    .dataframe tbody tr th:only-of-type {\n",
       "        vertical-align: middle;\n",
       "    }\n",
       "\n",
       "    .dataframe tbody tr th {\n",
       "        vertical-align: top;\n",
       "    }\n",
       "\n",
       "    .dataframe thead th {\n",
       "        text-align: right;\n",
       "    }\n",
       "</style>\n",
       "<table border=\"1\" class=\"dataframe\">\n",
       "  <thead>\n",
       "    <tr style=\"text-align: right;\">\n",
       "      <th></th>\n",
       "      <th>Date</th>\n",
       "      <th>Open</th>\n",
       "      <th>High</th>\n",
       "      <th>Low</th>\n",
       "      <th>Close</th>\n",
       "      <th>Adj Close</th>\n",
       "      <th>Volume</th>\n",
       "    </tr>\n",
       "  </thead>\n",
       "  <tbody>\n",
       "    <tr>\n",
       "      <th>0</th>\n",
       "      <td>2022-01-12</td>\n",
       "      <td>173.899994</td>\n",
       "      <td>174.330002</td>\n",
       "      <td>172.949997</td>\n",
       "      <td>173.899994</td>\n",
       "      <td>169.368561</td>\n",
       "      <td>5268000</td>\n",
       "    </tr>\n",
       "    <tr>\n",
       "      <th>1</th>\n",
       "      <td>2022-01-13</td>\n",
       "      <td>173.710007</td>\n",
       "      <td>174.690002</td>\n",
       "      <td>173.240005</td>\n",
       "      <td>174.179993</td>\n",
       "      <td>169.641251</td>\n",
       "      <td>4310300</td>\n",
       "    </tr>\n",
       "    <tr>\n",
       "      <th>2</th>\n",
       "      <td>2022-01-14</td>\n",
       "      <td>174.570007</td>\n",
       "      <td>175.940002</td>\n",
       "      <td>173.399994</td>\n",
       "      <td>175.639999</td>\n",
       "      <td>171.063232</td>\n",
       "      <td>4474500</td>\n",
       "    </tr>\n",
       "    <tr>\n",
       "      <th>3</th>\n",
       "      <td>2022-01-18</td>\n",
       "      <td>173.619995</td>\n",
       "      <td>174.759995</td>\n",
       "      <td>173.149994</td>\n",
       "      <td>173.960007</td>\n",
       "      <td>169.427017</td>\n",
       "      <td>5789500</td>\n",
       "    </tr>\n",
       "    <tr>\n",
       "      <th>4</th>\n",
       "      <td>2022-01-19</td>\n",
       "      <td>173.960007</td>\n",
       "      <td>175.960007</td>\n",
       "      <td>173.570007</td>\n",
       "      <td>175.210007</td>\n",
       "      <td>170.644424</td>\n",
       "      <td>6424500</td>\n",
       "    </tr>\n",
       "  </tbody>\n",
       "</table>\n",
       "</div>"
      ],
      "text/plain": [
       "         Date        Open        High         Low       Close   Adj Close  \\\n",
       "0  2022-01-12  173.899994  174.330002  172.949997  173.899994  169.368561   \n",
       "1  2022-01-13  173.710007  174.690002  173.240005  174.179993  169.641251   \n",
       "2  2022-01-14  174.570007  175.940002  173.399994  175.639999  171.063232   \n",
       "3  2022-01-18  173.619995  174.759995  173.149994  173.960007  169.427017   \n",
       "4  2022-01-19  173.960007  175.960007  173.570007  175.210007  170.644424   \n",
       "\n",
       "    Volume  \n",
       "0  5268000  \n",
       "1  4310300  \n",
       "2  4474500  \n",
       "3  5789500  \n",
       "4  6424500  "
      ]
     },
     "execution_count": 5,
     "metadata": {},
     "output_type": "execute_result"
    }
   ],
   "source": [
    "Pepsi_data.head()"
   ]
  },
  {
   "cell_type": "code",
   "execution_count": 6,
   "metadata": {},
   "outputs": [
    {
     "data": {
      "text/html": [
       "<div>\n",
       "<style scoped>\n",
       "    .dataframe tbody tr th:only-of-type {\n",
       "        vertical-align: middle;\n",
       "    }\n",
       "\n",
       "    .dataframe tbody tr th {\n",
       "        vertical-align: top;\n",
       "    }\n",
       "\n",
       "    .dataframe thead th {\n",
       "        text-align: right;\n",
       "    }\n",
       "</style>\n",
       "<table border=\"1\" class=\"dataframe\">\n",
       "  <thead>\n",
       "    <tr style=\"text-align: right;\">\n",
       "      <th></th>\n",
       "      <th>CocaCola</th>\n",
       "      <th>Pepsi</th>\n",
       "    </tr>\n",
       "  </thead>\n",
       "  <tbody>\n",
       "    <tr>\n",
       "      <th>0</th>\n",
       "      <td>60.540001</td>\n",
       "      <td>173.899994</td>\n",
       "    </tr>\n",
       "    <tr>\n",
       "      <th>1</th>\n",
       "      <td>60.900002</td>\n",
       "      <td>174.179993</td>\n",
       "    </tr>\n",
       "    <tr>\n",
       "      <th>2</th>\n",
       "      <td>61.389999</td>\n",
       "      <td>175.639999</td>\n",
       "    </tr>\n",
       "    <tr>\n",
       "      <th>3</th>\n",
       "      <td>60.900002</td>\n",
       "      <td>173.960007</td>\n",
       "    </tr>\n",
       "    <tr>\n",
       "      <th>4</th>\n",
       "      <td>61.000000</td>\n",
       "      <td>175.210007</td>\n",
       "    </tr>\n",
       "  </tbody>\n",
       "</table>\n",
       "</div>"
      ],
      "text/plain": [
       "    CocaCola       Pepsi\n",
       "0  60.540001  173.899994\n",
       "1  60.900002  174.179993\n",
       "2  61.389999  175.639999\n",
       "3  60.900002  173.960007\n",
       "4  61.000000  175.210007"
      ]
     },
     "execution_count": 6,
     "metadata": {},
     "output_type": "execute_result"
    }
   ],
   "source": [
    "prices_compare = pd.DataFrame({'CocaCola':CocaCola_data.Close.values,\n",
    "                              'Pepsi':Pepsi_data.Close.values})\n",
    "prices_compare.head()"
   ]
  },
  {
   "cell_type": "code",
   "execution_count": 7,
   "metadata": {},
   "outputs": [
    {
     "data": {
      "text/plain": [
       "<AxesSubplot: >"
      ]
     },
     "execution_count": 7,
     "metadata": {},
     "output_type": "execute_result"
    },
    {
     "data": {
      "image/png": "[encoded data removed]",
      "text/plain": [
       "<Figure size 640x480 with 1 Axes>"
      ]
     },
     "metadata": {},
     "output_type": "display_data"
    }
   ],
   "source": [
    "prices_compare.plot()"
   ]
  },
  {
   "cell_type": "code",
   "execution_count": 8,
   "metadata": {},
   "outputs": [
    {
     "data": {
      "text/html": [
       "<div>\n",
       "<style scoped>\n",
       "    .dataframe tbody tr th:only-of-type {\n",
       "        vertical-align: middle;\n",
       "    }\n",
       "\n",
       "    .dataframe tbody tr th {\n",
       "        vertical-align: top;\n",
       "    }\n",
       "\n",
       "    .dataframe thead th {\n",
       "        text-align: right;\n",
       "    }\n",
       "</style>\n",
       "<table border=\"1\" class=\"dataframe\">\n",
       "  <thead>\n",
       "    <tr style=\"text-align: right;\">\n",
       "      <th></th>\n",
       "      <th>CocaCola</th>\n",
       "      <th>Pepsi</th>\n",
       "    </tr>\n",
       "  </thead>\n",
       "  <tbody>\n",
       "    <tr>\n",
       "      <th>0</th>\n",
       "      <td>NaN</td>\n",
       "      <td>NaN</td>\n",
       "    </tr>\n",
       "    <tr>\n",
       "      <th>1</th>\n",
       "      <td>0.005946</td>\n",
       "      <td>0.001610</td>\n",
       "    </tr>\n",
       "    <tr>\n",
       "      <th>2</th>\n",
       "      <td>0.008046</td>\n",
       "      <td>0.008382</td>\n",
       "    </tr>\n",
       "    <tr>\n",
       "      <th>3</th>\n",
       "      <td>-0.007982</td>\n",
       "      <td>-0.009565</td>\n",
       "    </tr>\n",
       "    <tr>\n",
       "      <th>4</th>\n",
       "      <td>0.001642</td>\n",
       "      <td>0.007186</td>\n",
       "    </tr>\n",
       "  </tbody>\n",
       "</table>\n",
       "</div>"
      ],
      "text/plain": [
       "   CocaCola     Pepsi\n",
       "0       NaN       NaN\n",
       "1  0.005946  0.001610\n",
       "2  0.008046  0.008382\n",
       "3 -0.007982 -0.009565\n",
       "4  0.001642  0.007186"
      ]
     },
     "execution_count": 8,
     "metadata": {},
     "output_type": "execute_result"
    }
   ],
   "source": [
    "Daily_Returns = prices_compare/prices_compare.shift(1)-1\n",
    "Daily_Returns.head()"
   ]
  },
  {
   "cell_type": "code",
   "execution_count": 19,
   "metadata": {},
   "outputs": [],
   "source": [
    "#Drop na\n",
    "Daily_Returns=Daily_Returns.dropna()"
   ]
  },
  {
   "cell_type": "code",
   "execution_count": 20,
   "metadata": {},
   "outputs": [
    {
     "data": {
      "text/plain": [
       "<AxesSubplot: title={'center': 'Returns of Cola and Pepsi'}>"
      ]
     },
     "execution_count": 20,
     "metadata": {},
     "output_type": "execute_result"
    },
    {
     "data": {
      "image/png": "[encoded data removed]",
      "text/plain": [
       "<Figure size 640x480 with 1 Axes>"
      ]
     },
     "metadata": {},
     "output_type": "display_data"
    }
   ],
   "source": [
    "Daily_Returns.plot.bar(title=\"Returns of Cola and Pepsi\")"
   ]
  },
  {
   "cell_type": "markdown",
   "metadata": {},
   "source": [
    "### Drawdown"
   ]
  },
  {
   "cell_type": "code",
   "execution_count": 22,
   "metadata": {},
   "outputs": [
    {
     "data": {
      "text/html": [
       "<div>\n",
       "<style scoped>\n",
       "    .dataframe tbody tr th:only-of-type {\n",
       "        vertical-align: middle;\n",
       "    }\n",
       "\n",
       "    .dataframe tbody tr th {\n",
       "        vertical-align: top;\n",
       "    }\n",
       "\n",
       "    .dataframe thead th {\n",
       "        text-align: right;\n",
       "    }\n",
       "</style>\n",
       "<table border=\"1\" class=\"dataframe\">\n",
       "  <thead>\n",
       "    <tr style=\"text-align: right;\">\n",
       "      <th></th>\n",
       "      <th>Wealth</th>\n",
       "      <th>Peaks</th>\n",
       "      <th>Drawdown</th>\n",
       "    </tr>\n",
       "  </thead>\n",
       "  <tbody>\n",
       "    <tr>\n",
       "      <th>1</th>\n",
       "      <td>1001.610115</td>\n",
       "      <td>1001.610115</td>\n",
       "      <td>0.000000</td>\n",
       "    </tr>\n",
       "    <tr>\n",
       "      <th>2</th>\n",
       "      <td>1010.005780</td>\n",
       "      <td>1010.005780</td>\n",
       "      <td>0.000000</td>\n",
       "    </tr>\n",
       "    <tr>\n",
       "      <th>3</th>\n",
       "      <td>1000.345101</td>\n",
       "      <td>1010.005780</td>\n",
       "      <td>-0.009565</td>\n",
       "    </tr>\n",
       "    <tr>\n",
       "      <th>4</th>\n",
       "      <td>1007.533140</td>\n",
       "      <td>1010.005780</td>\n",
       "      <td>-0.002448</td>\n",
       "    </tr>\n",
       "    <tr>\n",
       "      <th>5</th>\n",
       "      <td>1000.230063</td>\n",
       "      <td>1010.005780</td>\n",
       "      <td>-0.009679</td>\n",
       "    </tr>\n",
       "    <tr>\n",
       "      <th>...</th>\n",
       "      <td>...</td>\n",
       "      <td>...</td>\n",
       "      <td>...</td>\n",
       "    </tr>\n",
       "    <tr>\n",
       "      <th>247</th>\n",
       "      <td>1041.403176</td>\n",
       "      <td>1069.005178</td>\n",
       "      <td>-0.025820</td>\n",
       "    </tr>\n",
       "    <tr>\n",
       "      <th>248</th>\n",
       "      <td>1031.224889</td>\n",
       "      <td>1069.005178</td>\n",
       "      <td>-0.035342</td>\n",
       "    </tr>\n",
       "    <tr>\n",
       "      <th>249</th>\n",
       "      <td>1022.714273</td>\n",
       "      <td>1069.005178</td>\n",
       "      <td>-0.043303</td>\n",
       "    </tr>\n",
       "    <tr>\n",
       "      <th>250</th>\n",
       "      <td>1023.864342</td>\n",
       "      <td>1069.005178</td>\n",
       "      <td>-0.042227</td>\n",
       "    </tr>\n",
       "    <tr>\n",
       "      <th>251</th>\n",
       "      <td>1010.810840</td>\n",
       "      <td>1069.005178</td>\n",
       "      <td>-0.054438</td>\n",
       "    </tr>\n",
       "  </tbody>\n",
       "</table>\n",
       "<p>251 rows × 3 columns</p>\n",
       "</div>"
      ],
      "text/plain": [
       "          Wealth        Peaks  Drawdown\n",
       "1    1001.610115  1001.610115  0.000000\n",
       "2    1010.005780  1010.005780  0.000000\n",
       "3    1000.345101  1010.005780 -0.009565\n",
       "4    1007.533140  1010.005780 -0.002448\n",
       "5    1000.230063  1010.005780 -0.009679\n",
       "..           ...          ...       ...\n",
       "247  1041.403176  1069.005178 -0.025820\n",
       "248  1031.224889  1069.005178 -0.035342\n",
       "249  1022.714273  1069.005178 -0.043303\n",
       "250  1023.864342  1069.005178 -0.042227\n",
       "251  1010.810840  1069.005178 -0.054438\n",
       "\n",
       "[251 rows x 3 columns]"
      ]
     },
     "execution_count": 22,
     "metadata": {},
     "output_type": "execute_result"
    }
   ],
   "source": [
    "erk.drawdown(Daily_Returns.Pepsi)"
   ]
  },
  {
   "cell_type": "code",
   "execution_count": 23,
   "metadata": {},
   "outputs": [
    {
     "data": {
      "text/html": [
       "<div>\n",
       "<style scoped>\n",
       "    .dataframe tbody tr th:only-of-type {\n",
       "        vertical-align: middle;\n",
       "    }\n",
       "\n",
       "    .dataframe tbody tr th {\n",
       "        vertical-align: top;\n",
       "    }\n",
       "\n",
       "    .dataframe thead th {\n",
       "        text-align: right;\n",
       "    }\n",
       "</style>\n",
       "<table border=\"1\" class=\"dataframe\">\n",
       "  <thead>\n",
       "    <tr style=\"text-align: right;\">\n",
       "      <th></th>\n",
       "      <th>Wealth</th>\n",
       "      <th>Peaks</th>\n",
       "      <th>Drawdown</th>\n",
       "    </tr>\n",
       "  </thead>\n",
       "  <tbody>\n",
       "    <tr>\n",
       "      <th>1</th>\n",
       "      <td>1005.946498</td>\n",
       "      <td>1005.946498</td>\n",
       "      <td>0.000000</td>\n",
       "    </tr>\n",
       "    <tr>\n",
       "      <th>2</th>\n",
       "      <td>1014.040271</td>\n",
       "      <td>1014.040271</td>\n",
       "      <td>0.000000</td>\n",
       "    </tr>\n",
       "    <tr>\n",
       "      <th>3</th>\n",
       "      <td>1005.946498</td>\n",
       "      <td>1014.040271</td>\n",
       "      <td>-0.007982</td>\n",
       "    </tr>\n",
       "    <tr>\n",
       "      <th>4</th>\n",
       "      <td>1007.598265</td>\n",
       "      <td>1014.040271</td>\n",
       "      <td>-0.006353</td>\n",
       "    </tr>\n",
       "    <tr>\n",
       "      <th>5</th>\n",
       "      <td>1003.468764</td>\n",
       "      <td>1014.040271</td>\n",
       "      <td>-0.010425</td>\n",
       "    </tr>\n",
       "    <tr>\n",
       "      <th>...</th>\n",
       "      <td>...</td>\n",
       "      <td>...</td>\n",
       "      <td>...</td>\n",
       "    </tr>\n",
       "    <tr>\n",
       "      <th>247</th>\n",
       "      <td>1047.241509</td>\n",
       "      <td>1093.657052</td>\n",
       "      <td>-0.042441</td>\n",
       "    </tr>\n",
       "    <tr>\n",
       "      <th>248</th>\n",
       "      <td>1034.192269</td>\n",
       "      <td>1093.657052</td>\n",
       "      <td>-0.054372</td>\n",
       "    </tr>\n",
       "    <tr>\n",
       "      <th>249</th>\n",
       "      <td>1026.263627</td>\n",
       "      <td>1093.657052</td>\n",
       "      <td>-0.061622</td>\n",
       "    </tr>\n",
       "    <tr>\n",
       "      <th>250</th>\n",
       "      <td>1024.281417</td>\n",
       "      <td>1093.657052</td>\n",
       "      <td>-0.063435</td>\n",
       "    </tr>\n",
       "    <tr>\n",
       "      <th>251</th>\n",
       "      <td>1011.067030</td>\n",
       "      <td>1093.657052</td>\n",
       "      <td>-0.075517</td>\n",
       "    </tr>\n",
       "  </tbody>\n",
       "</table>\n",
       "<p>251 rows × 3 columns</p>\n",
       "</div>"
      ],
      "text/plain": [
       "          Wealth        Peaks  Drawdown\n",
       "1    1005.946498  1005.946498  0.000000\n",
       "2    1014.040271  1014.040271  0.000000\n",
       "3    1005.946498  1014.040271 -0.007982\n",
       "4    1007.598265  1014.040271 -0.006353\n",
       "5    1003.468764  1014.040271 -0.010425\n",
       "..           ...          ...       ...\n",
       "247  1047.241509  1093.657052 -0.042441\n",
       "248  1034.192269  1093.657052 -0.054372\n",
       "249  1026.263627  1093.657052 -0.061622\n",
       "250  1024.281417  1093.657052 -0.063435\n",
       "251  1011.067030  1093.657052 -0.075517\n",
       "\n",
       "[251 rows x 3 columns]"
      ]
     },
     "execution_count": 23,
     "metadata": {},
     "output_type": "execute_result"
    }
   ],
   "source": [
    "erk.drawdown(Daily_Returns.CocaCola)"
   ]
  },
  {
   "cell_type": "code",
   "execution_count": 28,
   "metadata": {},
   "outputs": [
    {
     "data": {
      "text/plain": [
       "<AxesSubplot: title={'center': \"Pepsi's Drawdown\"}>"
      ]
     },
     "execution_count": 28,
     "metadata": {},
     "output_type": "execute_result"
    },
    {
     "data": {
      "image/png": "[encoded data removed]",
      "text/plain": [
       "<Figure size 640x480 with 1 Axes>"
      ]
     },
     "metadata": {},
     "output_type": "display_data"
    }
   ],
   "source": [
    "erk.drawdown(Daily_Returns.Pepsi)[\"Drawdown\"].plot.line(title=\"Pepsi's Drawdown\")"
   ]
  },
  {
   "cell_type": "code",
   "execution_count": 29,
   "metadata": {},
   "outputs": [
    {
     "data": {
      "text/plain": [
       "<AxesSubplot: title={'center': \"CocaCola's Darawdown\"}>"
      ]
     },
     "execution_count": 29,
     "metadata": {},
     "output_type": "execute_result"
    },
    {
     "data": {
      "image/png": "[encoded data removed]",
      "text/plain": [
       "<Figure size 640x480 with 1 Axes>"
      ]
     },
     "metadata": {},
     "output_type": "display_data"
    }
   ],
   "source": [
    "erk.drawdown(Daily_Returns.CocaCola)[\"Drawdown\"].plot.line(title=\"CocaCola's Darawdown\")"
   ]
  },
  {
   "cell_type": "markdown",
   "metadata": {},
   "source": [
    " STANDARD DEVIATION, MEAN OF RETURNS AND VOLITALITY"
   ]
  },
  {
   "cell_type": "code",
   "execution_count": 11,
   "metadata": {},
   "outputs": [
    {
     "name": "stdout",
     "output_type": "stream",
     "text": [
      "Standard Deviation \n",
      " CocaCola    0.012527\n",
      "Pepsi       0.012395\n",
      "dtype: float64 \n",
      " Mean \n",
      " CocaCola    0.000122\n",
      "Pepsi       0.000120\n",
      "dtype: float64\n"
     ]
    }
   ],
   "source": [
    "print('Standard Deviation \\n',Daily_Returns.std(),'\\n Mean \\n', Daily_Returns.mean())"
   ]
  },
  {
   "cell_type": "code",
   "execution_count": 12,
   "metadata": {},
   "outputs": [
    {
     "data": {
      "text/plain": [
       "CocaCola    0.012527\n",
       "Pepsi       0.012395\n",
       "dtype: float64"
      ]
     },
     "execution_count": 12,
     "metadata": {},
     "output_type": "execute_result"
    }
   ],
   "source": [
    "number_of_ob = Daily_Returns.shape[0]\n",
    "deviation = Daily_Returns-Daily_Returns.mean()\n",
    "sq_deviation = deviation**2\n",
    "variance = sq_deviation.sum()/(number_of_ob-1)\n",
    "volatility = variance**0.5\n",
    "volatility"
   ]
  },
  {
   "cell_type": "markdown",
   "metadata": {},
   "source": [
    "ANUALLIZING RETURNS\n"
   ]
  },
  {
   "cell_type": "code",
   "execution_count": 13,
   "metadata": {},
   "outputs": [
    {
     "data": {
      "text/plain": [
       "CocaCola    0.011067\n",
       "Pepsi       0.010811\n",
       "dtype: float64"
      ]
     },
     "execution_count": 13,
     "metadata": {},
     "output_type": "execute_result"
    }
   ],
   "source": [
    "Annual_Returns = (Daily_Returns+1).prod()-1\n",
    "Annual_Returns"
   ]
  },
  {
   "cell_type": "code",
   "execution_count": 31,
   "metadata": {},
   "outputs": [
    {
     "data": {
      "text/plain": [
       "CocaCola    0.011111\n",
       "Pepsi       0.010854\n",
       "dtype: float64"
      ]
     },
     "execution_count": 31,
     "metadata": {},
     "output_type": "execute_result"
    }
   ],
   "source": [
    "erk.annualize_returns(Daily_Returns,252)"
   ]
  },
  {
   "cell_type": "markdown",
   "metadata": {},
   "source": [
    "ANNUALIZING VOLITALITY"
   ]
  },
  {
   "cell_type": "code",
   "execution_count": 14,
   "metadata": {},
   "outputs": [
    {
     "data": {
      "text/plain": [
       "CocaCola    0.198858\n",
       "Pepsi       0.196770\n",
       "dtype: float64"
      ]
     },
     "execution_count": 14,
     "metadata": {},
     "output_type": "execute_result"
    }
   ],
   "source": [
    "Annual_Volitality = Daily_Returns.std()*np.sqrt(252)\n",
    "Annual_Volitality"
   ]
  },
  {
   "cell_type": "code",
   "execution_count": 32,
   "metadata": {},
   "outputs": [
    {
     "data": {
      "text/plain": [
       "CocaCola    0.198858\n",
       "Pepsi       0.196770\n",
       "dtype: float64"
      ]
     },
     "execution_count": 32,
     "metadata": {},
     "output_type": "execute_result"
    }
   ],
   "source": [
    "erk.annualize_vol(Daily_Returns, 252)"
   ]
  },
  {
   "cell_type": "markdown",
   "metadata": {},
   "source": [
    "Risk Adjusted Returns"
   ]
  },
  {
   "cell_type": "markdown",
   "metadata": {},
   "source": [
    "$$ Sharp Ratio =\\frac{Excess Return}{Volitality}= \\frac{Return-Riskfree Rate}{Volitality}$$"
   ]
  },
  {
   "cell_type": "code",
   "execution_count": 15,
   "metadata": {},
   "outputs": [
    {
     "data": {
      "text/plain": [
       "CocaCola   -0.095208\n",
       "Pepsi      -0.097521\n",
       "dtype: float64"
      ]
     },
     "execution_count": 15,
     "metadata": {},
     "output_type": "execute_result"
    }
   ],
   "source": [
    "RiskfreeRate = 0.03\n",
    "Excess_Return = Annual_Returns-RiskfreeRate\n",
    "SharpRatio = Excess_Return/Annual_Volitality\n",
    "SharpRatio"
   ]
  },
  {
   "cell_type": "code",
   "execution_count": 30,
   "metadata": {},
   "outputs": [
    {
     "data": {
      "text/plain": [
       "CocaCola   -0.092241\n",
       "Pepsi      -0.094489\n",
       "dtype: float64"
      ]
     },
     "execution_count": 30,
     "metadata": {},
     "output_type": "execute_result"
    }
   ],
   "source": [
    "erk.sharpe_ratio(Daily_Returns,RiskfreeRate,252)"
   ]
  },
  {
   "cell_type": "markdown",
   "metadata": {},
   "source": [
    "negative Sharpe Ratio is not goood"
   ]
  },
  {
   "cell_type": "markdown",
   "metadata": {},
   "source": [
    "### Skewness"
   ]
  },
  {
   "cell_type": "code",
   "execution_count": 17,
   "metadata": {},
   "outputs": [
    {
     "data": {
      "text/plain": [
       "CocaCola   -0.660109\n",
       "Pepsi      -0.442815\n",
       "dtype: float64"
      ]
     },
     "execution_count": 17,
     "metadata": {},
     "output_type": "execute_result"
    }
   ],
   "source": [
    "erk.skewness(Daily_Returns)"
   ]
  },
  {
   "cell_type": "markdown",
   "metadata": {},
   "source": [
    "### Kurtosis"
   ]
  },
  {
   "cell_type": "code",
   "execution_count": 18,
   "metadata": {},
   "outputs": [
    {
     "data": {
      "text/plain": [
       "CocaCola    6.838812\n",
       "Pepsi       5.572343\n",
       "dtype: float64"
      ]
     },
     "execution_count": 18,
     "metadata": {},
     "output_type": "execute_result"
    }
   ],
   "source": [
    "erk.kurtosis(Daily_Returns)"
   ]
  }
 ],
 "metadata": {
  "kernelspec": {
   "display_name": "Python 3 (ipykernel)",
   "language": "python",
   "name": "python3"
  },
  "language_info": {
   "codemirror_mode": {
    "name": "ipython",
    "version": 3
   },
   "file_extension": ".py",
   "mimetype": "text/x-python",
   "name": "python",
   "nbconvert_exporter": "python",
   "pygments_lexer": "ipython3",
   "version": "3.8.3"
  }
 },
 "nbformat": 4,
 "nbformat_minor": 4
}
